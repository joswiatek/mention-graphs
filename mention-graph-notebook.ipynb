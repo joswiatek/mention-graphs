{
 "cells": [
  {
   "cell_type": "code",
   "execution_count": 5,
   "metadata": {},
   "outputs": [],
   "source": [
    "import networkx as nx\n",
    "import matplotlib.pyplot as plt"
   ]
  },
  {
   "cell_type": "code",
   "execution_count": 6,
   "metadata": {},
   "outputs": [
    {
     "name": "stdout",
     "output_type": "stream",
     "text": [
      "Rushee names: ['John Doe', 'Mary Sue', 'A guy with a long name', 'Mike']\n"
     ]
    }
   ],
   "source": [
    "# Load the rushee names (these will be nodes)\n",
    "rushee_nodes = []\n",
    "with open(\"rushees.txt\", 'rb') as f:\n",
    "    rushee_nodes = list(f.read().split('\\n'))\n",
    "    rushee_nodes = [n.strip() for n in rushee_nodes]\n",
    "\n",
    "rushee_nodes.remove('')\n",
    "print(\"Rushee names: %s\" % rushee_nodes)"
   ]
  },
  {
   "cell_type": "code",
   "execution_count": 7,
   "metadata": {},
   "outputs": [
    {
     "name": "stdout",
     "output_type": "stream",
     "text": [
      "Active names: ['Active Number 1', 'Active number two']\n"
     ]
    }
   ],
   "source": [
    "# Load the active names (these will be nodes)\n",
    "active_nodes = []\n",
    "with open(\"actives.txt\", 'rb') as f:\n",
    "    active_nodes = list(f.read().split('\\n'))\n",
    "    active_nodes = [n.strip() for n in active_nodes]\n",
    "\n",
    "active_nodes.remove('')\n",
    "print(\"Active names: %s\" % active_nodes)"
   ]
  },
  {
   "cell_type": "code",
   "execution_count": 8,
   "metadata": {},
   "outputs": [
    {
     "name": "stdout",
     "output_type": "stream",
     "text": [
      "Rushee only mentions:\n",
      "\tJohn Doe => Mary Sue\n",
      "\tMike => A guy with a long name\n",
      "\tMary Sue => Mike\n",
      "\tMike => Mary Sue\n",
      "\tA guy with a long name => Mike\n",
      "\n",
      "\n",
      "All mentions:\n",
      "\tJohn Doe => Mary Sue\n",
      "\tMike => A guy with a long name\n",
      "\tMary Sue => Mike\n",
      "\tMike => Mary Sue\n",
      "\tA guy with a long name => Mike\n",
      "\tMike => Active Number 1\n",
      "\tMike => Active number two\n",
      "\n",
      "\n"
     ]
    }
   ],
   "source": [
    "# Load the mentions (these will be directed edges)\n",
    "all_edges = []\n",
    "with open(\"mentions.txt\", 'rb') as f:\n",
    "    for line in f:\n",
    "        edge = tuple([e.strip() for e in line.split(',')])\n",
    "        if edge[0] not in active_nodes and edge[0] not in rushee_nodes:\n",
    "            print('FOUND A NEW PERSON: \"%s\" not specified in active or rushee list!' % edge[0])\n",
    "        if edge[1] not in active_nodes and edge[1] not in rushee_nodes:\n",
    "            print('FOUND: %s not specified in active or rushee list!' % edge[1])\n",
    "        all_edges.append(tuple([e.strip() for e in line.split(',')]))\n",
    "\n",
    "# Extract the rushee only mentions\n",
    "rushee_edges = [e for e in all_edges if e[0] in rushee_nodes and e[1] in rushee_nodes]\n",
    "print(\"Rushee only mentions:\")\n",
    "for e in rushee_edges:\n",
    "    print(\"\\t%s => %s\" % (e[0], e[1]))\n",
    "print('\\n')\n",
    "\n",
    "print(\"All mentions:\")\n",
    "for e in all_edges:\n",
    "    print(\"\\t%s => %s\" % (e[0], e[1]))\n",
    "print('\\n')"
   ]
  },
  {
   "cell_type": "code",
   "execution_count": 11,
   "metadata": {},
   "outputs": [],
   "source": [
    "# Create our graphs\n",
    "\n",
    "# Just the rushees\n",
    "rushee_only_graph = nx.DiGraph()\n",
    "rushee_only_graph.add_nodes_from(rushee_nodes)\n",
    "rushee_only_graph.add_edges_from(rushee_edges)\n",
    "\n",
    "# Rushees + actives\n",
    "full_graph = nx.DiGraph()\n",
    "full_graph.add_nodes_from(rushee_nodes)\n",
    "full_graph.add_nodes_from(active_nodes)\n",
    "full_graph.add_edges_from(all_edges)"
   ]
  },
  {
   "cell_type": "code",
   "execution_count": 12,
   "metadata": {},
   "outputs": [
    {
     "data": {
      "image/png": "[encoded data removed]",
      "text/plain": [
       "<Figure size 432x288 with 1 Axes>"
      ]
     },
     "metadata": {},
     "output_type": "display_data"
    }
   ],
   "source": [
    "# Draw with just pledges\n",
    "sizes = []\n",
    "for n in rushee_only_graph.nodes():\n",
    "    sizes.append(rushee_only_graph.degree(n) * 200)\n",
    "\n",
    "nx.draw(rushee_only_graph, with_labels=True, pos=nx.circular_layout(rushee_only_graph), node_size=sizes)"
   ]
  },
  {
   "cell_type": "code",
   "execution_count": 13,
   "metadata": {},
   "outputs": [
    {
     "data": {
      "image/png": "[encoded data removed]",
      "text/plain": [
       "<Figure size 432x288 with 1 Axes>"
      ]
     },
     "metadata": {},
     "output_type": "display_data"
    }
   ],
   "source": [
    "# Draw the full graph with the actives included\n",
    "sizes = []\n",
    "for n in full_graph.nodes():\n",
    "    sizes.append(full_graph.degree(n) * 200)\n",
    "colors = []\n",
    "\n",
    "for n in full_graph.nodes():\n",
    "    colors.append('r' if n in rushee_nodes else 'b')\n",
    "# colors = ['r' for _ in rushee_nodes] + ['b' for _ in active_nodes]\n",
    "nx.draw(full_graph, with_labels=True, pos=nx.circular_layout(full_graph), node_color=colors, node_size=sizes)"
   ]
  }
 ],
 "metadata": {
  "kernelspec": {
   "display_name": "Python 2",
   "language": "python",
   "name": "python2"
  },
  "language_info": {
   "codemirror_mode": {
    "name": "ipython",
    "version": 2
   },
   "file_extension": ".py",
   "mimetype": "text/x-python",
   "name": "python",
   "nbconvert_exporter": "python",
   "pygments_lexer": "ipython2",
   "version": "2.7.15"
  }
 },
 "nbformat": 4,
 "nbformat_minor": 2
}
